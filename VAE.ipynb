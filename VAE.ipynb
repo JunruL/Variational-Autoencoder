{
  "nbformat": 4,
  "nbformat_minor": 0,
  "metadata": {
    "colab": {
      "name": "VAE.ipynb",
      "provenance": [],
      "authorship_tag": "ABX9TyPKCwRI2XW+7fz1Fhy+8HAf",
      "include_colab_link": true
    },
    "kernelspec": {
      "name": "python3",
      "display_name": "Python 3"
    },
    "language_info": {
      "name": "python"
    }
  },
  "cells": [
    {
      "cell_type": "markdown",
      "metadata": {
        "id": "view-in-github",
        "colab_type": "text"
      },
      "source": [
        "<a href=\"https://colab.research.google.com/github/JunruL/Variational-Autoencoder/blob/main/VAE.ipynb\" target=\"_parent\"><img src=\"https://colab.research.google.com/assets/colab-badge.svg\" alt=\"Open In Colab\"/></a>"
      ]
    },
    {
      "cell_type": "code",
      "source": [
        "!mkdir ~/.kaggle\n",
        "!mv kaggle.json ~/.kaggle\n",
        "!kaggle datasets download -d playlist/mnistzip\n",
        "!unzip mnistzip.zip"
      ],
      "metadata": {
        "id": "o1jSMZe9Qs9N"
      },
      "execution_count": 6,
      "outputs": []
    },
    {
      "cell_type": "code",
      "source": [
        "import torch\n",
        "from torch.utils.data import Dataset\n",
        "from torchvision import datasets\n",
        "from torchvision.transforms import ToTensor\n",
        "import matplotlib.pyplot as plt\n",
        "import os"
      ],
      "metadata": {
        "id": "VtKXoqbiShbj"
      },
      "execution_count": 9,
      "outputs": []
    },
    {
      "cell_type": "code",
      "source": [
        "class CustomImageDataset(Dataset):\n",
        "    def __init__(self, data_lst: list, label_lst: list):\n",
        "        self.data_lst = data_lst\n",
        "        self.label_lst = label_lst\n",
        "\n",
        "    def __len__(self):\n",
        "        return len(self.data_lst)\n",
        "\n",
        "    def __getitem__(self, idx):\n",
        "        image = cv.imread(data_lst[idx], 0)\n",
        "        label = label_lst[idx]\n",
        "        return image, label"
      ],
      "metadata": {
        "id": "M980ii0JSVqS"
      },
      "execution_count": 40,
      "outputs": []
    },
    {
      "cell_type": "code",
      "source": [
        "data_lst = []\n",
        "label_lst = []\n",
        "for number in range(10):\n",
        "  number_lst = os.listdir('./mnist_png/train/' + str(number))\n",
        "  data_lst += ['./mnist_png/train/' + str(number) + '/' + str(file) for file in number_lst]\n",
        "  label_lst += [number for _ in range(len(number_lst))]"
      ],
      "metadata": {
        "id": "Dg1yDDxIUoE2"
      },
      "execution_count": 25,
      "outputs": []
    },
    {
      "cell_type": "code",
      "source": [
        "dataset = CustomImageDataset(number_lst, label_lst)\n",
        "idx = 10000\n",
        "image, label = dataset[idx]\n",
        "plt.imshow(image, cmap='gray')\n",
        "print(label)"
      ],
      "metadata": {
        "colab": {
          "base_uri": "https://localhost:8080/",
          "height": 282
        },
        "id": "i8QE6jSLYn_M",
        "outputId": "e1e2422b-1395-4154-b97d-f97356b43766"
      },
      "execution_count": 42,
      "outputs": [
        {
          "output_type": "stream",
          "name": "stdout",
          "text": [
            "1\n"
          ]
        },
        {
          "output_type": "display_data",
          "data": {
            "text/plain": [
              "<Figure size 432x288 with 1 Axes>"
            ],
            "image/png": "[encoded data removed]"
          },
          "metadata": {
            "needs_background": "light"
          }
        }
      ]
    }
  ]
}